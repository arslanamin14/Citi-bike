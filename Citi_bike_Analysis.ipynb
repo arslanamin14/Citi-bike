{
  "nbformat": 4,
  "nbformat_minor": 0,
  "metadata": {
    "colab": {
      "provenance": []
    },
    "kernelspec": {
      "name": "python3",
      "display_name": "Python 3"
    },
    "language_info": {
      "name": "python"
    }
  },
  "cells": [
    {
      "cell_type": "code",
      "execution_count": null,
      "metadata": {
        "colab": {
          "base_uri": "https://localhost:8080/"
        },
        "id": "o7j_YQKCehC3",
        "outputId": "53319a9a-da1e-412d-9864-d139cbbc91ca"
      },
      "outputs": [
        {
          "output_type": "stream",
          "name": "stdout",
          "text": [
            "Mounted at /content/drive\n"
          ]
        }
      ],
      "source": [
        "# Mount the google drive\n",
        "from google.colab import drive\n",
        "drive.mount('/content/drive')"
      ]
    },
    {
      "cell_type": "code",
      "execution_count": null,
      "metadata": {
        "colab": {
          "base_uri": "https://localhost:8080/"
        },
        "id": "715VSprzehF7",
        "outputId": "e5c98a84-1137-4ffc-ba56-0b6e4cb2410e"
      },
      "outputs": [
        {
          "output_type": "stream",
          "name": "stdout",
          "text": [
            "Looking in indexes: https://pypi.org/simple, https://us-python.pkg.dev/colab-wheels/public/simple/\n",
            "Collecting pyspark\n",
            "  Downloading pyspark-3.3.0.tar.gz (281.3 MB)\n",
            "\u001b[K     |████████████████████████████████| 281.3 MB 42 kB/s \n",
            "\u001b[?25hCollecting py4j==0.10.9.5\n",
            "  Downloading py4j-0.10.9.5-py2.py3-none-any.whl (199 kB)\n",
            "\u001b[K     |████████████████████████████████| 199 kB 65.5 MB/s \n",
            "\u001b[?25hBuilding wheels for collected packages: pyspark\n",
            "  Building wheel for pyspark (setup.py) ... \u001b[?25l\u001b[?25hdone\n",
            "  Created wheel for pyspark: filename=pyspark-3.3.0-py2.py3-none-any.whl size=281764026 sha256=fb301b9dd6284fa099b1fa15932f131448f0b6a0476bb8540f7dc8ff47abde20\n",
            "  Stored in directory: /root/.cache/pip/wheels/7a/8e/1b/f73a52650d2e5f337708d9f6a1750d451a7349a867f928b885\n",
            "Successfully built pyspark\n",
            "Installing collected packages: py4j, pyspark\n",
            "Successfully installed py4j-0.10.9.5 pyspark-3.3.0\n",
            "The following package was automatically installed and is no longer required:\n",
            "  libnvidia-common-460\n",
            "Use 'apt autoremove' to remove it.\n",
            "The following additional packages will be installed:\n",
            "  openjdk-8-jre-headless\n",
            "Suggested packages:\n",
            "  openjdk-8-demo openjdk-8-source libnss-mdns fonts-dejavu-extra\n",
            "  fonts-ipafont-gothic fonts-ipafont-mincho fonts-wqy-microhei\n",
            "  fonts-wqy-zenhei fonts-indic\n",
            "The following NEW packages will be installed:\n",
            "  openjdk-8-jdk-headless openjdk-8-jre-headless\n",
            "0 upgraded, 2 newly installed, 0 to remove and 49 not upgraded.\n",
            "Need to get 36.5 MB of archives.\n",
            "After this operation, 143 MB of additional disk space will be used.\n",
            "Selecting previously unselected package openjdk-8-jre-headless:amd64.\n",
            "(Reading database ... 155639 files and directories currently installed.)\n",
            "Preparing to unpack .../openjdk-8-jre-headless_8u312-b07-0ubuntu1~18.04_amd64.deb ...\n",
            "Unpacking openjdk-8-jre-headless:amd64 (8u312-b07-0ubuntu1~18.04) ...\n",
            "Selecting previously unselected package openjdk-8-jdk-headless:amd64.\n",
            "Preparing to unpack .../openjdk-8-jdk-headless_8u312-b07-0ubuntu1~18.04_amd64.deb ...\n",
            "Unpacking openjdk-8-jdk-headless:amd64 (8u312-b07-0ubuntu1~18.04) ...\n",
            "Setting up openjdk-8-jre-headless:amd64 (8u312-b07-0ubuntu1~18.04) ...\n",
            "update-alternatives: using /usr/lib/jvm/java-8-openjdk-amd64/jre/bin/orbd to provide /usr/bin/orbd (orbd) in auto mode\n",
            "update-alternatives: using /usr/lib/jvm/java-8-openjdk-amd64/jre/bin/servertool to provide /usr/bin/servertool (servertool) in auto mode\n",
            "update-alternatives: using /usr/lib/jvm/java-8-openjdk-amd64/jre/bin/tnameserv to provide /usr/bin/tnameserv (tnameserv) in auto mode\n",
            "Setting up openjdk-8-jdk-headless:amd64 (8u312-b07-0ubuntu1~18.04) ...\n",
            "update-alternatives: using /usr/lib/jvm/java-8-openjdk-amd64/bin/idlj to provide /usr/bin/idlj (idlj) in auto mode\n",
            "update-alternatives: using /usr/lib/jvm/java-8-openjdk-amd64/bin/wsimport to provide /usr/bin/wsimport (wsimport) in auto mode\n",
            "update-alternatives: using /usr/lib/jvm/java-8-openjdk-amd64/bin/jsadebugd to provide /usr/bin/jsadebugd (jsadebugd) in auto mode\n",
            "update-alternatives: using /usr/lib/jvm/java-8-openjdk-amd64/bin/native2ascii to provide /usr/bin/native2ascii (native2ascii) in auto mode\n",
            "update-alternatives: using /usr/lib/jvm/java-8-openjdk-amd64/bin/javah to provide /usr/bin/javah (javah) in auto mode\n",
            "update-alternatives: using /usr/lib/jvm/java-8-openjdk-amd64/bin/hsdb to provide /usr/bin/hsdb (hsdb) in auto mode\n",
            "update-alternatives: using /usr/lib/jvm/java-8-openjdk-amd64/bin/clhsdb to provide /usr/bin/clhsdb (clhsdb) in auto mode\n",
            "update-alternatives: using /usr/lib/jvm/java-8-openjdk-amd64/bin/xjc to provide /usr/bin/xjc (xjc) in auto mode\n",
            "update-alternatives: using /usr/lib/jvm/java-8-openjdk-amd64/bin/schemagen to provide /usr/bin/schemagen (schemagen) in auto mode\n",
            "update-alternatives: using /usr/lib/jvm/java-8-openjdk-amd64/bin/extcheck to provide /usr/bin/extcheck (extcheck) in auto mode\n",
            "update-alternatives: using /usr/lib/jvm/java-8-openjdk-amd64/bin/jhat to provide /usr/bin/jhat (jhat) in auto mode\n",
            "update-alternatives: using /usr/lib/jvm/java-8-openjdk-amd64/bin/wsgen to provide /usr/bin/wsgen (wsgen) in auto mode\n"
          ]
        }
      ],
      "source": [
        "# install the pyspark\n",
        "!pip install pyspark\n",
        "!pip install -U -q PyDrive\n",
        "!apt install openjdk-8-jdk-headless -qq"
      ]
    },
    {
      "cell_type": "code",
      "execution_count": null,
      "metadata": {
        "id": "C_CnNULWehJj"
      },
      "outputs": [],
      "source": [
        "# import the libraries\n",
        "import pandas as pd\n",
        "import numpy as np\n",
        "import matplotlib.pyplot as plt\n",
        "%matplotlib inline\n",
        "import pyspark\n",
        "from pyspark.sql import *\n",
        "from pyspark.sql.functions import *\n",
        "from pyspark import SparkContext, SparkConf\n",
        "from pyspark.mllib.linalg import Vectors\n",
        "from pyspark.ml.feature import VectorAssembler\n",
        "from pyspark.ml.regression import LinearRegression\n",
        "from pyspark.ml.evaluation import RegressionEvaluator\n",
        "from pyspark.ml import Pipeline\n",
        "from pyspark.sql.functions import *"
      ]
    },
    {
      "cell_type": "code",
      "execution_count": null,
      "metadata": {
        "colab": {
          "base_uri": "https://localhost:8080/"
        },
        "id": "vR4LROp5h4E9",
        "outputId": "094a3945-f1ac-46ad-dbe6-33c83808aa8e"
      },
      "outputs": [
        {
          "output_type": "stream",
          "name": "stderr",
          "text": [
            "/usr/local/lib/python3.7/dist-packages/pyspark/sql/context.py:114: FutureWarning: Deprecated in 3.0.0. Use SparkSession.builder.getOrCreate() instead.\n",
            "  FutureWarning,\n"
          ]
        }
      ],
      "source": [
        "#create Session Without Information\n",
        "# create the session\n",
        "conf = pyspark.SparkConf()\n",
        "# create the context\n",
        "sc = pyspark.SparkContext.getOrCreate(conf=conf)\n",
        "sqlcontext = SQLContext(sc)\n",
        "spark = SparkSession.builder.getOrCreate()\n"
      ]
    },
    {
      "cell_type": "code",
      "execution_count": null,
      "metadata": {
        "id": "vbb41730SutV"
      },
      "outputs": [],
      "source": [
        "# read the bike data\n",
        "df1 = spark.read.csv('/content/drive/MyDrive/JC-202205-citibike-tripdata.csv',header='true')\n",
        "# read the weather data\n",
        "df2=spark.read.csv('/content/drive/MyDrive/weather_ny_ 052022.csv',header='true')"
      ]
    },
    {
      "cell_type": "code",
      "execution_count": null,
      "metadata": {
        "id": "717ckLqhRFUk",
        "colab": {
          "base_uri": "https://localhost:8080/"
        },
        "outputId": "a6b8de7b-e7f2-4c9d-b0e2-783b222ea32f"
      },
      "outputs": [
        {
          "output_type": "stream",
          "name": "stdout",
          "text": [
            "+----------------+-------------+-------------------+-------------------+--------------------+----------------+--------------------+--------------+-----------------+------------------+-----------------+------------------+-------------+\n",
            "|         ride_id|rideable_type|         started_at|           ended_at|  start_station_name|start_station_id|    end_station_name|end_station_id|        start_lat|         start_lng|          end_lat|           end_lng|member_casual|\n",
            "+----------------+-------------+-------------------+-------------------+--------------------+----------------+--------------------+--------------+-----------------+------------------+-----------------+------------------+-------------+\n",
            "|FC9EB68D6501F079|electric_bike|2022-05-15 14:02:06|2022-05-15 14:05:44|Hoboken Terminal ...|           HB101|    Hudson St & 4 St|         HB607|40.73593758446329|-74.03030455112457|40.74097260864355|-74.02860336005688|       member|\n",
            "|932A2D5E45ACED5B|electric_bike|2022-05-13 15:30:14|2022-05-13 15:33:03|Hoboken Terminal ...|           HB101|    Hudson St & 4 St|         HB607|40.73593758446329|-74.03030455112457|40.74097260864355|-74.02860336005688|       casual|\n",
            "|8C0CD371C7A5795C|electric_bike|2022-05-31 20:41:39|2022-05-31 22:04:47|Hoboken Terminal ...|           HB101|South Waterfront ...|         HB103|40.73593758446329|-74.03030455112457|40.73698221818716|-74.02778059244156|       casual|\n",
            "|25BC1B079FBC71B9| classic_bike|2022-05-29 17:24:23|2022-05-30 18:24:16|Hoboken Terminal ...|           HB101|                null|          null|40.73593758446329|-74.03030455112457|             null|              null|       member|\n",
            "|0B0F776B55C85AB8| classic_bike|2022-05-26 16:49:12|2022-05-26 16:57:01|Hoboken Terminal ...|           HB101|Hoboken Ave at Mo...|         JC105|40.73593758446329|-74.03030455112457|40.73520838045357|-74.04696375131607|       member|\n",
            "+----------------+-------------+-------------------+-------------------+--------------------+----------------+--------------------+--------------+-----------------+------------------+-----------------+------------------+-------------+\n",
            "only showing top 5 rows\n",
            "\n"
          ]
        }
      ],
      "source": [
        "# display the bike data\n",
        "df1.show(5)"
      ]
    },
    {
      "cell_type": "code",
      "source": [
        "# display the wether data\n",
        "df2.show(5)"
      ],
      "metadata": {
        "colab": {
          "base_uri": "https://localhost:8080/"
        },
        "id": "nZ99DUYXT6Fg",
        "outputId": "7d7e7d39-131d-41c5-ed2c-551666cda09f"
      },
      "execution_count": null,
      "outputs": [
        {
          "output_type": "stream",
          "name": "stdout",
          "text": [
            "+--------+----------+-------+-------+----+------------+------------+---------+----+--------+------+----------+-----------+----------+----+---------+--------+---------+-------+----------------+----------+----------+--------------+-----------+-------+----------+-------------------+-------------------+---------+----------------+--------------------+-----------------+--------------------+\n",
            "|    name|  datetime|tempmax|tempmin|temp|feelslikemax|feelslikemin|feelslike| dew|humidity|precip|precipprob|precipcover|preciptype|snow|snowdepth|windgust|windspeed|winddir|sealevelpressure|cloudcover|visibility|solarradiation|solarenergy|uvindex|severerisk|            sunrise|             sunset|moonphase|      conditions|         description|             icon|            stations|\n",
            "+--------+----------+-------+-------+----+------------+------------+---------+----+--------+------+----------+-----------+----------+----+---------+--------+---------+-------+----------------+----------+----------+--------------+-----------+-------+----------+-------------------+-------------------+---------+----------------+--------------------+-----------------+--------------------+\n",
            "|new york|2022-05-01|   19.7|    8.6|14.1|        19.7|           8|       14| 0.3|    41.9|     0|         0|          0|      null|   0|        0|      31|     18.1|  118.3|          1019.2|      31.7|        16|         293.8|       25.5|     10|        10|2022-05-01T05:54:37|2022-05-01T19:52:20|        0|Partially cloudy|Partly cloudy thr...|partly-cloudy-day|72505394728,KEWR,...|\n",
            "|new york|2022-05-02|   13.4|   11.2|12.2|        13.4|        11.2|     12.2| 9.5|    83.9|  6.66|       100|       37.5|      rain|   0|        0|    37.1|     16.2|   65.7|          1017.4|       100|      11.1|          51.7|        4.6|      2|        10|2022-05-02T05:53:21|2022-05-02T19:53:22|     0.01|  Rain, Overcast|Cloudy skies thro...|             rain|72505394728,KEWR,...|\n",
            "|new york|2022-05-03|   16.3|   10.5|13.1|        16.3|        10.5|     13.1| 8.2|    72.7|     0|         0|          0|      null|   0|        0|    33.5|     17.4|     75|          1020.5|      70.6|        16|         240.7|       20.8|     10|        10|2022-05-03T05:52:06|2022-05-03T19:54:24|     0.03|Partially cloudy|Partly cloudy thr...|partly-cloudy-day|72505394728,KEWR,...|\n",
            "|new york|2022-05-04|   18.6|   10.1|13.3|        18.6|        10.1|     13.3|10.3|    82.8|  2.64|       100|      33.33|      rain|   0|        0|    29.5|     13.6|  141.2|          1015.6|      93.4|      12.3|         111.4|        9.7|      7|        10|2022-05-04T05:50:53|2022-05-04T19:55:26|     0.06|  Rain, Overcast|Cloudy skies thro...|             rain|72505394728,KEWR,...|\n",
            "|new york|2022-05-05|   22.9|   13.7|17.6|        22.9|        13.7|     17.6| 7.6|    54.5|     0|         0|          0|      null|   0|        0|    33.8|     18.2|  139.9|          1017.3|      46.9|        16|         284.3|       24.6|      9|        10|2022-05-05T05:49:41|2022-05-05T19:56:27|     0.09|Partially cloudy|Partly cloudy thr...|partly-cloudy-day|72505394728,KEWR,...|\n",
            "+--------+----------+-------+-------+----+------------+------------+---------+----+--------+------+----------+-----------+----------+----+---------+--------+---------+-------+----------------+----------+----------+--------------+-----------+-------+----------+-------------------+-------------------+---------+----------------+--------------------+-----------------+--------------------+\n",
            "only showing top 5 rows\n",
            "\n"
          ]
        }
      ]
    },
    {
      "cell_type": "code",
      "source": [
        "from pyspark.sql.functions import split\n",
        "# splittng the date column into day using split function\n",
        "df1 = df1.withColumn('d', split(df1['started_at'], '-').getItem(2))\n",
        "df1 = df1.withColumn('day', split(df1['d'], ' ').getItem(0))\n",
        "df1=df1.drop('d')\n",
        "# display the data\n",
        "df1.show(5)"
      ],
      "metadata": {
        "colab": {
          "base_uri": "https://localhost:8080/"
        },
        "id": "A6e7L93cW4ON",
        "outputId": "458d8937-43e7-48ec-c211-cee4a53caf31"
      },
      "execution_count": null,
      "outputs": [
        {
          "output_type": "stream",
          "name": "stdout",
          "text": [
            "+----------------+-------------+-------------------+-------------------+--------------------+----------------+--------------------+--------------+-----------------+------------------+-----------------+------------------+-------------+---+\n",
            "|         ride_id|rideable_type|         started_at|           ended_at|  start_station_name|start_station_id|    end_station_name|end_station_id|        start_lat|         start_lng|          end_lat|           end_lng|member_casual|day|\n",
            "+----------------+-------------+-------------------+-------------------+--------------------+----------------+--------------------+--------------+-----------------+------------------+-----------------+------------------+-------------+---+\n",
            "|FC9EB68D6501F079|electric_bike|2022-05-15 14:02:06|2022-05-15 14:05:44|Hoboken Terminal ...|           HB101|    Hudson St & 4 St|         HB607|40.73593758446329|-74.03030455112457|40.74097260864355|-74.02860336005688|       member| 15|\n",
            "|932A2D5E45ACED5B|electric_bike|2022-05-13 15:30:14|2022-05-13 15:33:03|Hoboken Terminal ...|           HB101|    Hudson St & 4 St|         HB607|40.73593758446329|-74.03030455112457|40.74097260864355|-74.02860336005688|       casual| 13|\n",
            "|8C0CD371C7A5795C|electric_bike|2022-05-31 20:41:39|2022-05-31 22:04:47|Hoboken Terminal ...|           HB101|South Waterfront ...|         HB103|40.73593758446329|-74.03030455112457|40.73698221818716|-74.02778059244156|       casual| 31|\n",
            "|25BC1B079FBC71B9| classic_bike|2022-05-29 17:24:23|2022-05-30 18:24:16|Hoboken Terminal ...|           HB101|                null|          null|40.73593758446329|-74.03030455112457|             null|              null|       member| 29|\n",
            "|0B0F776B55C85AB8| classic_bike|2022-05-26 16:49:12|2022-05-26 16:57:01|Hoboken Terminal ...|           HB101|Hoboken Ave at Mo...|         JC105|40.73593758446329|-74.03030455112457|40.73520838045357|-74.04696375131607|       member| 26|\n",
            "+----------------+-------------+-------------------+-------------------+--------------------+----------------+--------------------+--------------+-----------------+------------------+-----------------+------------------+-------------+---+\n",
            "only showing top 5 rows\n",
            "\n"
          ]
        }
      ]
    },
    {
      "cell_type": "code",
      "source": [
        "# splittng the date column into day using split function\n",
        "df2 = df2.withColumn('w_day', split(df2['datetime'], '-').getItem(2))\n",
        "# display the data\n",
        "df2.show(5)"
      ],
      "metadata": {
        "colab": {
          "base_uri": "https://localhost:8080/"
        },
        "id": "-eh6R9fLW4RN",
        "outputId": "adc01745-3fde-4f52-b83c-a5281904985b"
      },
      "execution_count": null,
      "outputs": [
        {
          "output_type": "stream",
          "name": "stdout",
          "text": [
            "+--------+----------+-------+-------+----+------------+------------+---------+----+--------+------+----------+-----------+----------+----+---------+--------+---------+-------+----------------+----------+----------+--------------+-----------+-------+----------+-------------------+-------------------+---------+----------------+--------------------+-----------------+--------------------+-----+\n",
            "|    name|  datetime|tempmax|tempmin|temp|feelslikemax|feelslikemin|feelslike| dew|humidity|precip|precipprob|precipcover|preciptype|snow|snowdepth|windgust|windspeed|winddir|sealevelpressure|cloudcover|visibility|solarradiation|solarenergy|uvindex|severerisk|            sunrise|             sunset|moonphase|      conditions|         description|             icon|            stations|w_day|\n",
            "+--------+----------+-------+-------+----+------------+------------+---------+----+--------+------+----------+-----------+----------+----+---------+--------+---------+-------+----------------+----------+----------+--------------+-----------+-------+----------+-------------------+-------------------+---------+----------------+--------------------+-----------------+--------------------+-----+\n",
            "|new york|2022-05-01|   19.7|    8.6|14.1|        19.7|           8|       14| 0.3|    41.9|     0|         0|          0|      null|   0|        0|      31|     18.1|  118.3|          1019.2|      31.7|        16|         293.8|       25.5|     10|        10|2022-05-01T05:54:37|2022-05-01T19:52:20|        0|Partially cloudy|Partly cloudy thr...|partly-cloudy-day|72505394728,KEWR,...|   01|\n",
            "|new york|2022-05-02|   13.4|   11.2|12.2|        13.4|        11.2|     12.2| 9.5|    83.9|  6.66|       100|       37.5|      rain|   0|        0|    37.1|     16.2|   65.7|          1017.4|       100|      11.1|          51.7|        4.6|      2|        10|2022-05-02T05:53:21|2022-05-02T19:53:22|     0.01|  Rain, Overcast|Cloudy skies thro...|             rain|72505394728,KEWR,...|   02|\n",
            "|new york|2022-05-03|   16.3|   10.5|13.1|        16.3|        10.5|     13.1| 8.2|    72.7|     0|         0|          0|      null|   0|        0|    33.5|     17.4|     75|          1020.5|      70.6|        16|         240.7|       20.8|     10|        10|2022-05-03T05:52:06|2022-05-03T19:54:24|     0.03|Partially cloudy|Partly cloudy thr...|partly-cloudy-day|72505394728,KEWR,...|   03|\n",
            "|new york|2022-05-04|   18.6|   10.1|13.3|        18.6|        10.1|     13.3|10.3|    82.8|  2.64|       100|      33.33|      rain|   0|        0|    29.5|     13.6|  141.2|          1015.6|      93.4|      12.3|         111.4|        9.7|      7|        10|2022-05-04T05:50:53|2022-05-04T19:55:26|     0.06|  Rain, Overcast|Cloudy skies thro...|             rain|72505394728,KEWR,...|   04|\n",
            "|new york|2022-05-05|   22.9|   13.7|17.6|        22.9|        13.7|     17.6| 7.6|    54.5|     0|         0|          0|      null|   0|        0|    33.8|     18.2|  139.9|          1017.3|      46.9|        16|         284.3|       24.6|      9|        10|2022-05-05T05:49:41|2022-05-05T19:56:27|     0.09|Partially cloudy|Partly cloudy thr...|partly-cloudy-day|72505394728,KEWR,...|   05|\n",
            "+--------+----------+-------+-------+----+------------+------------+---------+----+--------+------+----------+-----------+----------+----+---------+--------+---------+-------+----------------+----------+----------+--------------+-----------+-------+----------+-------------------+-------------------+---------+----------------+--------------------+-----------------+--------------------+-----+\n",
            "only showing top 5 rows\n",
            "\n"
          ]
        }
      ]
    },
    {
      "cell_type": "code",
      "source": [
        "# join both the data based on the day\n",
        "final=df1.join(df2, df1.day == df2.w_day)\n",
        "# drop the day column in bike data\n",
        "final=final.drop('day')\n",
        "# drop the day column in bike data\n",
        "final=final.drop('w_day')\n",
        "# display the data\n",
        "final.show(5)"
      ],
      "metadata": {
        "colab": {
          "base_uri": "https://localhost:8080/"
        },
        "id": "5qT-8QYsW4Tz",
        "outputId": "65de3fbf-7cf0-4b7d-a129-17dde6721180"
      },
      "execution_count": null,
      "outputs": [
        {
          "output_type": "stream",
          "name": "stdout",
          "text": [
            "+----------------+-------------+-------------------+-------------------+--------------------+----------------+--------------------+--------------+-----------------+------------------+-----------------+------------------+-------------+--------+----------+-------+-------+----+------------+------------+---------+----+--------+------+----------+-----------+----------+----+---------+--------+---------+-------+----------------+----------+----------+--------------+-----------+-------+----------+-------------------+-------------------+---------+--------------------+--------------------+-----------------+--------------------+\n",
            "|         ride_id|rideable_type|         started_at|           ended_at|  start_station_name|start_station_id|    end_station_name|end_station_id|        start_lat|         start_lng|          end_lat|           end_lng|member_casual|    name|  datetime|tempmax|tempmin|temp|feelslikemax|feelslikemin|feelslike| dew|humidity|precip|precipprob|precipcover|preciptype|snow|snowdepth|windgust|windspeed|winddir|sealevelpressure|cloudcover|visibility|solarradiation|solarenergy|uvindex|severerisk|            sunrise|             sunset|moonphase|          conditions|         description|             icon|            stations|\n",
            "+----------------+-------------+-------------------+-------------------+--------------------+----------------+--------------------+--------------+-----------------+------------------+-----------------+------------------+-------------+--------+----------+-------+-------+----+------------+------------+---------+----+--------+------+----------+-----------+----------+----+---------+--------+---------+-------+----------------+----------+----------+--------------+-----------+-------+----------+-------------------+-------------------+---------+--------------------+--------------------+-----------------+--------------------+\n",
            "|FC9EB68D6501F079|electric_bike|2022-05-15 14:02:06|2022-05-15 14:05:44|Hoboken Terminal ...|           HB101|    Hudson St & 4 St|         HB607|40.73593758446329|-74.03030455112457|40.74097260864355|-74.02860336005688|       member|new york|2022-05-15|   24.9|   15.5|19.2|        24.9|        15.5|     19.2|16.2|    83.6|  5.18|       100|      20.83|      rain|   0|        0|    35.3|     19.8|  157.4|          1011.5|      78.7|      10.7|         190.5|       16.6|     10|        10|2022-05-15T05:38:58|2022-05-15T20:06:27|      0.5|Rain, Partially c...|Partly cloudy thr...|             rain|72505394728,KEWR,...|\n",
            "|932A2D5E45ACED5B|electric_bike|2022-05-13 15:30:14|2022-05-13 15:33:03|Hoboken Terminal ...|           HB101|    Hudson St & 4 St|         HB607|40.73593758446329|-74.03030455112457|40.74097260864355|-74.02860336005688|       casual|new york|2022-05-13|     21|   14.4|17.1|          21|        14.4|     17.1|15.1|    88.6|  0.61|       100|      16.67|      rain|   0|        0|    27.7|     18.2|   63.7|          1024.4|      98.6|       9.4|         131.5|       11.4|      8|        10|2022-05-13T05:40:55|2022-05-13T20:04:30|     0.45|      Rain, Overcast|Cloudy skies thro...|             rain|72505394728,KEWR,...|\n",
            "|8C0CD371C7A5795C|electric_bike|2022-05-31 20:41:39|2022-05-31 22:04:47|Hoboken Terminal ...|           HB101|South Waterfront ...|         HB103|40.73593758446329|-74.03030455112457|40.73698221818716|-74.02778059244156|       casual|new york|2022-05-31|   33.8|   20.6|28.5|        33.3|        20.6|     28.3|16.3|    50.1|     0|         0|          0|      null|   0|        0|    48.1|     18.7|  258.2|          1014.1|      34.7|        16|         298.4|       25.7|      9|        30|2022-05-31T05:27:36|2022-05-31T20:20:22|        0|    Partially cloudy|Partly cloudy thr...|partly-cloudy-day|72505394728,KEWR,...|\n",
            "|25BC1B079FBC71B9| classic_bike|2022-05-29 17:24:23|2022-05-30 18:24:16|Hoboken Terminal ...|           HB101|                null|          null|40.73593758446329|-74.03030455112457|             null|              null|       member|new york|2022-05-29|   25.2|   16.1|20.5|        25.2|        16.1|     20.5|12.2|    60.2|     0|         0|          0|      null|   0|        0|    23.8|     10.8|  201.7|          1016.7|      19.9|        16|         268.9|       23.3|     10|        10|2022-05-29T05:28:35|2022-05-29T20:18:50|        1|               Clear|Clear conditions ...|        clear-day|72505394728,KEWR,...|\n",
            "|0B0F776B55C85AB8| classic_bike|2022-05-26 16:49:12|2022-05-26 16:57:01|Hoboken Terminal ...|           HB101|Hoboken Ave at Mo...|         JC105|40.73593758446329|-74.03030455112457|40.73520838045357|-74.04696375131607|       member|new york|2022-05-26|   20.6|   12.8|  17|        20.6|        12.8|       17|10.5|    66.1|     0|         0|          0|      null|   0|        0|    33.5|     21.6|  127.2|          1024.5|      58.9|        16|           289|         25|     10|        10|2022-05-26T05:30:19|2022-05-26T20:16:25|     0.93|    Partially cloudy|Partly cloudy thr...|partly-cloudy-day|72505394728,KEWR,...|\n",
            "+----------------+-------------+-------------------+-------------------+--------------------+----------------+--------------------+--------------+-----------------+------------------+-----------------+------------------+-------------+--------+----------+-------+-------+----+------------+------------+---------+----+--------+------+----------+-----------+----------+----+---------+--------+---------+-------+----------------+----------+----------+--------------+-----------+-------+----------+-------------------+-------------------+---------+--------------------+--------------------+-----------------+--------------------+\n",
            "only showing top 5 rows\n",
            "\n"
          ]
        }
      ]
    },
    {
      "cell_type": "code",
      "source": [
        "# save the data in csv\n",
        "final.toPandas().to_csv('final.csv')"
      ],
      "metadata": {
        "id": "Dj2632xJh15B"
      },
      "execution_count": null,
      "outputs": []
    },
    {
      "cell_type": "code",
      "source": [
        "# number of rideable_type on given conditions\n",
        "final.groupBy(\"conditions\").agg({'rideable_type':'count'}).sort(col(\"count(rideable_type)\").desc()).show()"
      ],
      "metadata": {
        "colab": {
          "base_uri": "https://localhost:8080/"
        },
        "id": "2pdXoY0cmoF3",
        "outputId": "0c3bccd1-a7c7-4329-e49f-63140b7793ea"
      },
      "execution_count": null,
      "outputs": [
        {
          "output_type": "stream",
          "name": "stdout",
          "text": [
            "+--------------------+--------------------+\n",
            "|          conditions|count(rideable_type)|\n",
            "+--------------------+--------------------+\n",
            "|    Partially cloudy|               42230|\n",
            "|Rain, Partially c...|               17179|\n",
            "|               Clear|               12034|\n",
            "|      Rain, Overcast|                9039|\n",
            "+--------------------+--------------------+\n",
            "\n"
          ]
        }
      ]
    },
    {
      "cell_type": "code",
      "source": [
        "# name of the top 5 start stations based on rideable_type\n",
        "final.groupBy(\"start_station_name\").agg({'rideable_type':'count'}).sort(col(\"count(rideable_type)\").desc()).show(5)"
      ],
      "metadata": {
        "colab": {
          "base_uri": "https://localhost:8080/"
        },
        "id": "ZInG9lCQ20oe",
        "outputId": "2b09afd8-4843-45b9-95c2-50e7025fc1b2"
      },
      "execution_count": null,
      "outputs": [
        {
          "output_type": "stream",
          "name": "stdout",
          "text": [
            "+--------------------+--------------------+\n",
            "|  start_station_name|count(rideable_type)|\n",
            "+--------------------+--------------------+\n",
            "|South Waterfront ...|                4241|\n",
            "|Hoboken Terminal ...|                3785|\n",
            "|       Grove St PATH|                3610|\n",
            "|             Sip Ave|                2142|\n",
            "|City Hall - Washi...|                2141|\n",
            "+--------------------+--------------------+\n",
            "only showing top 5 rows\n",
            "\n"
          ]
        }
      ]
    },
    {
      "cell_type": "code",
      "source": [
        "# name of the top 5 end stations based on rideable_type\n",
        "final.groupBy(\"end_station_name\").agg({'rideable_type':'count'}).sort(col(\"count(rideable_type)\").desc()).show(5)"
      ],
      "metadata": {
        "colab": {
          "base_uri": "https://localhost:8080/"
        },
        "id": "YfntDK3K20rB",
        "outputId": "7f4063d4-11ab-477a-cd3e-1012cd2fe976"
      },
      "execution_count": null,
      "outputs": [
        {
          "output_type": "stream",
          "name": "stdout",
          "text": [
            "+--------------------+--------------------+\n",
            "|    end_station_name|count(rideable_type)|\n",
            "+--------------------+--------------------+\n",
            "|South Waterfront ...|                4266|\n",
            "|Hoboken Terminal ...|                3726|\n",
            "|       Grove St PATH|                3714|\n",
            "|City Hall - Washi...|                2170|\n",
            "|        Newport Pkwy|                2135|\n",
            "+--------------------+--------------------+\n",
            "only showing top 5 rows\n",
            "\n"
          ]
        }
      ]
    },
    {
      "cell_type": "code",
      "source": [
        "#  rideable types bar graph plot\n",
        "d = final.select(\"rideable_type\").rdd.flatMap(lambda x: x).collect()\n",
        "num_bins = 10\n",
        "n, bins, patches = plt.hist(d, num_bins, facecolor='green', alpha=0.5)"
      ],
      "metadata": {
        "colab": {
          "base_uri": "https://localhost:8080/",
          "height": 266
        },
        "id": "y06zbd2x20to",
        "outputId": "f8e2c026-b36f-4c60-8dcd-d912bcebee55"
      },
      "execution_count": null,
      "outputs": [
        {
          "output_type": "display_data",
          "data": {
            "text/plain": [
              "<Figure size 432x288 with 1 Axes>"
            ],
            "image/png": "[encoded data removed]"
          },
          "metadata": {
            "needs_background": "light"
          }
        }
      ]
    },
    {
      "cell_type": "code",
      "source": [
        "#  weather condition bar graph plot\n",
        "d = final.select(\"conditions\").rdd.flatMap(lambda x: x).collect()\n",
        "num_bins = 10\n",
        "n, bins, patches = plt.hist(d, num_bins, facecolor='green', alpha=0.5)"
      ],
      "metadata": {
        "colab": {
          "base_uri": "https://localhost:8080/",
          "height": 265
        },
        "id": "DRYIvH2s8tRV",
        "outputId": "df91bfbc-a9fb-4239-848f-4de158cfcc30"
      },
      "execution_count": null,
      "outputs": [
        {
          "output_type": "display_data",
          "data": {
            "text/plain": [
              "<Figure size 432x288 with 1 Axes>"
            ],
            "image/png": "[encoded data removed]"
          },
          "metadata": {
            "needs_background": "light"
          }
        }
      ]
    },
    {
      "cell_type": "code",
      "source": [
        "#  member_casual bar graph plot\n",
        "d = final.select(\"member_casual\").rdd.flatMap(lambda x: x).collect()\n",
        "num_bins = 10\n",
        "n, bins, patches = plt.hist(d, num_bins, facecolor='green', alpha=0.5)\n"
      ],
      "metadata": {
        "colab": {
          "base_uri": "https://localhost:8080/",
          "height": 265
        },
        "id": "Fpapeq2l9CtX",
        "outputId": "35404762-100c-4797-dc88-681b79b4db47"
      },
      "execution_count": null,
      "outputs": [
        {
          "output_type": "display_data",
          "data": {
            "text/plain": [
              "<Figure size 432x288 with 1 Axes>"
            ],
            "image/png": "[encoded data removed]"
          },
          "metadata": {
            "needs_background": "light"
          }
        }
      ]
    },
    {
      "cell_type": "code",
      "source": [
        "# join both the data based on the day\n",
        "final=df1.join(df2, df1.day == df2.w_day)"
      ],
      "metadata": {
        "id": "gnT0PWK0t6Ur"
      },
      "execution_count": null,
      "outputs": []
    },
    {
      "cell_type": "code",
      "source": [
        "### Extract day of week from date in pyspark\n",
        "from pyspark.sql.functions import date_format\n",
        "from pyspark.sql.functions import col\n",
        "final=final.withColumn(\"Name_of_day\", date_format(col(\"datetime\"), \"EEEE\"))"
      ],
      "metadata": {
        "id": "4U6uLDGHyUh1"
      },
      "execution_count": null,
      "outputs": []
    },
    {
      "cell_type": "code",
      "source": [
        "# number of rideable_type on given conditions\n",
        "data=final.groupBy(\"conditions\",\"w_day\",'Name_of_day').agg({'rideable_type':'count'}).distinct()"
      ],
      "metadata": {
        "id": "tjLDEgCB8tUG"
      },
      "execution_count": null,
      "outputs": []
    },
    {
      "cell_type": "code",
      "source": [
        "data.show(5)"
      ],
      "metadata": {
        "colab": {
          "base_uri": "https://localhost:8080/"
        },
        "id": "hJa2kw3Av2-1",
        "outputId": "5a8df50c-d359-4af4-9b70-5cfdfc0ddb85"
      },
      "execution_count": null,
      "outputs": [
        {
          "output_type": "stream",
          "name": "stdout",
          "text": [
            "+----------------+-----+-----------+--------------------+\n",
            "|      conditions|w_day|Name_of_day|count(rideable_type)|\n",
            "+----------------+-----+-----------+--------------------+\n",
            "|Partially cloudy|   21|   Saturday|                3816|\n",
            "|Partially cloudy|   05|   Thursday|                3108|\n",
            "|Partially cloudy|   12|   Thursday|                2828|\n",
            "|           Clear|   29|     Sunday|                3199|\n",
            "|  Rain, Overcast|   13|     Friday|                2530|\n",
            "+----------------+-----+-----------+--------------------+\n",
            "only showing top 5 rows\n",
            "\n"
          ]
        }
      ]
    },
    {
      "cell_type": "code",
      "source": [
        "data=data.withColumn(\"weekend\", lit('Blue'))"
      ],
      "metadata": {
        "id": "dT3eljiw1pUf"
      },
      "execution_count": null,
      "outputs": []
    },
    {
      "cell_type": "code",
      "source": [
        "data.show(5)"
      ],
      "metadata": {
        "colab": {
          "base_uri": "https://localhost:8080/"
        },
        "id": "zU2VdQ6P2h8X",
        "outputId": "a26264bb-d9b8-4d22-9b75-20efe4a41da9"
      },
      "execution_count": null,
      "outputs": [
        {
          "output_type": "stream",
          "name": "stdout",
          "text": [
            "+----------------+-----+-----------+--------------------+-------+\n",
            "|      conditions|w_day|Name_of_day|count(rideable_type)|weekend|\n",
            "+----------------+-----+-----------+--------------------+-------+\n",
            "|Partially cloudy|   21|   Saturday|                3816|   Blue|\n",
            "|Partially cloudy|   05|   Thursday|                3108|   Blue|\n",
            "|Partially cloudy|   12|   Thursday|                2828|   Blue|\n",
            "|           Clear|   29|     Sunday|                3199|   Blue|\n",
            "|  Rain, Overcast|   13|     Friday|                2530|   Blue|\n",
            "+----------------+-----+-----------+--------------------+-------+\n",
            "only showing top 5 rows\n",
            "\n"
          ]
        }
      ]
    },
    {
      "cell_type": "code",
      "source": [
        "from pyspark.sql.functions import when\n",
        "data = data.withColumn(\"weekend\", when(data[\"Name_of_day\"] == 'Saturday', 'Orange').otherwise(data[\"weekend\"]))\n",
        "data = data.withColumn(\"weekend\", when(data[\"Name_of_day\"] == 'Sunday', 'Orange').otherwise(data[\"weekend\"]))"
      ],
      "metadata": {
        "id": "1KJY57D9y9uE"
      },
      "execution_count": null,
      "outputs": []
    },
    {
      "cell_type": "code",
      "source": [
        "data.show(5)"
      ],
      "metadata": {
        "colab": {
          "base_uri": "https://localhost:8080/"
        },
        "id": "XaiQybdj2kSf",
        "outputId": "dacae07b-e07f-4cfd-8a44-a6e833aa4bca"
      },
      "execution_count": null,
      "outputs": [
        {
          "output_type": "stream",
          "name": "stdout",
          "text": [
            "+----------------+-----+-----------+--------------------+-------+\n",
            "|      conditions|w_day|Name_of_day|count(rideable_type)|weekend|\n",
            "+----------------+-----+-----------+--------------------+-------+\n",
            "|Partially cloudy|   21|   Saturday|                3816| Orange|\n",
            "|Partially cloudy|   05|   Thursday|                3108|   Blue|\n",
            "|Partially cloudy|   12|   Thursday|                2828|   Blue|\n",
            "|           Clear|   29|     Sunday|                3199| Orange|\n",
            "|  Rain, Overcast|   13|     Friday|                2530|   Blue|\n",
            "+----------------+-----+-----------+--------------------+-------+\n",
            "only showing top 5 rows\n",
            "\n"
          ]
        }
      ]
    },
    {
      "cell_type": "code",
      "source": [
        "data=data.sort(col(\"w_day\").asc())"
      ],
      "metadata": {
        "id": "7je3Ljn-51qB"
      },
      "execution_count": null,
      "outputs": []
    },
    {
      "cell_type": "code",
      "source": [
        "a=data.select('w_day').rdd.flatMap(lambda x: x).collect()"
      ],
      "metadata": {
        "id": "IecpTtseTjkP"
      },
      "execution_count": null,
      "outputs": []
    },
    {
      "cell_type": "code",
      "source": [
        "b=data.select('count(rideable_type)').rdd.flatMap(lambda x: x).collect()"
      ],
      "metadata": {
        "id": "vTUA2V5toq5m"
      },
      "execution_count": null,
      "outputs": []
    },
    {
      "cell_type": "code",
      "source": [
        "c=data.select('weekend').rdd.flatMap(lambda x: x).collect()"
      ],
      "metadata": {
        "id": "7nB8wfAiTjho"
      },
      "execution_count": null,
      "outputs": []
    },
    {
      "cell_type": "code",
      "source": [
        "import matplotlib.pyplot as plt\n",
        "fig = plt.figure(figsize=(10,10))\n",
        "ax = fig.add_axes([0,0,1,1])\n",
        "ax.bar(a,b,color=c)\n",
        "\n",
        "fig.suptitle('May 2022', fontsize=20)\n",
        "plt.xlabel('Day', fontsize=18)\n",
        "plt.ylabel('Rides', fontsize=16)\n",
        "fig.savefig('May 20222.jpg')\n",
        "plt.show()"
      ],
      "metadata": {
        "colab": {
          "base_uri": "https://localhost:8080/",
          "height": 793
        },
        "id": "S9YI_qKbos6O",
        "outputId": "7b43cb5c-39e6-40f1-9d89-a16e2f11f984"
      },
      "execution_count": null,
      "outputs": [
        {
          "output_type": "display_data",
          "data": {
            "text/plain": [
              "<Figure size 720x720 with 1 Axes>"
            ],
            "image/png": "[encoded data removed]"
          },
          "metadata": {
            "needs_background": "light"
          }
        }
      ]
    }
  ]
}